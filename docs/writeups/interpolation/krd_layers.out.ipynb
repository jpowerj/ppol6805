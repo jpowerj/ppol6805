{
  "cells": [
    {
      "cell_type": "markdown",
      "metadata": {},
      "source": [
        "#"
      ],
      "id": "4f5f5f8e-a262-4335-b9ef-a6d4944ca122"
    },
    {
      "cell_type": "code",
      "execution_count": 2,
      "metadata": {},
      "outputs": [],
      "source": [
        "import json\n",
        "from esridump.dumper import EsriDumper"
      ],
      "id": "10793168"
    },
    {
      "cell_type": "code",
      "execution_count": 3,
      "metadata": {},
      "outputs": [],
      "source": [
        "layer_num = 11"
      ],
      "id": "87136154"
    },
    {
      "cell_type": "code",
      "execution_count": 4,
      "metadata": {},
      "outputs": [],
      "source": [
        "# d = EsriDumper('http://example.com/arcgis/rest/services/Layer/MapServer/1')\n",
        "\n",
        "k1835_endpoint = 'https://services.arcgis.com/3xOwF6p0r7IHIjfn/arcgis/rest/services/KurdPop1835/FeatureServer/0'\n",
        "\n",
        "principalities_1835_endpoint = 'https://services.arcgis.com/3xOwF6p0r7IHIjfn/arcgis/rest/services/Kurd1835/FeatureServer/9'\n",
        "\n",
        "sevres_endpoint = 'https://services.arcgis.com/3xOwF6p0r7IHIjfn/arcgis/rest/services/Treaty_of_Sevres/FeatureServer/11/'\n",
        "\n",
        "k47_endpoint = 'https://services.arcgis.com/3xOwF6p0r7IHIjfn/ArcGIS/rest/services/Kurdistan1947Boundaries/FeatureServer/10'\n",
        "\n",
        "cur_endpoint = 'https://services.arcgis.com/3xOwF6p0r7IHIjfn/arcgis/rest/services/Kurdistan_Current_Boundary_Estimates/FeatureServer/15'\n",
        "\n",
        "ed_object = EsriDumper(k47_endpoint)"
      ],
      "id": "7d27be56"
    },
    {
      "cell_type": "code",
      "execution_count": 5,
      "metadata": {},
      "outputs": [
        {
          "output_type": "display_data",
          "metadata": {},
          "data": {
            "text/plain": [
              "<esridump.dumper.EsriDumper at 0x108895410>"
            ]
          }
        }
      ],
      "source": [
        "ed_object"
      ],
      "id": "b0d534d1"
    },
    {
      "cell_type": "code",
      "execution_count": 6,
      "metadata": {},
      "outputs": [],
      "source": [
        "krd_features = list(ed_object)"
      ],
      "id": "c6999161"
    },
    {
      "cell_type": "code",
      "execution_count": 7,
      "metadata": {},
      "outputs": [
        {
          "output_type": "display_data",
          "metadata": {},
          "data": {
            "text/plain": [
              "1"
            ]
          }
        }
      ],
      "source": [
        "len(krd_features)"
      ],
      "id": "e8d56eb1"
    },
    {
      "cell_type": "code",
      "execution_count": 8,
      "metadata": {},
      "outputs": [
        {
          "output_type": "display_data",
          "metadata": {},
          "data": {
            "text/plain": [
              "3"
            ]
          }
        }
      ],
      "source": [
        "krd_feature = krd_features[0]\n",
        "len(krd_feature)"
      ],
      "id": "0c05b7e0"
    },
    {
      "cell_type": "code",
      "execution_count": 40,
      "metadata": {},
      "outputs": [],
      "source": [
        "with open('krd_47.geojson', 'w') as infile:\n",
        "  json.dump(krd_feature, infile)"
      ],
      "id": "3d4b6f09"
    },
    {
      "cell_type": "code",
      "execution_count": 21,
      "metadata": {},
      "outputs": [
        {
          "output_type": "stream",
          "name": "stdout",
          "text": [
            "ESRI Type: Feature\n",
            "ESRI Properties: {'OBJECTID': 1, 'area': 41360557.05027756, 'Shape__Area': 413605942350.6803, 'Shape__Length': 4362383.882545892}\n",
            "Geometry Type: Polygon\n",
            "First Coordinate: [37.6952778, 39.2168218]"
          ]
        }
      ],
      "source": [
        "print(\"ESRI Type:\", krd_feature['type'])\n",
        "print(\"ESRI Properties:\", krd_feature['properties'])\n",
        "print(\"Geometry Type:\", krd_feature['geometry']['type'])\n",
        "print(\"First Coordinate:\",krd_feature['geometry']['coordinates'][0][0])"
      ],
      "id": "scraped-esri-data"
    },
    {
      "cell_type": "code",
      "execution_count": 9,
      "metadata": {},
      "outputs": [
        {
          "output_type": "display_data",
          "metadata": {},
          "data": {
            "text/plain": [
              "dict_keys(['type', 'geometry', 'properties'])"
            ]
          }
        }
      ],
      "source": [
        "krd_feature.keys()"
      ],
      "id": "7282bb68"
    },
    {
      "cell_type": "code",
      "execution_count": 13,
      "metadata": {},
      "outputs": [
        {
          "output_type": "display_data",
          "metadata": {},
          "data": {
            "text/plain": [
              "'Feature'"
            ]
          }
        }
      ],
      "source": [
        "krd_feature['type']"
      ],
      "id": "5ee57b8a"
    },
    {
      "cell_type": "code",
      "execution_count": 14,
      "metadata": {},
      "outputs": [
        {
          "output_type": "display_data",
          "metadata": {},
          "data": {
            "text/plain": [
              "{'OBJECTID': 1,\n",
              " 'area': 41360557.05027756,\n",
              " 'Shape__Area': 413605942350.6803,\n",
              " 'Shape__Length': 4362383.882545892}"
            ]
          }
        }
      ],
      "source": [
        "krd_feature['properties']"
      ],
      "id": "a40f8b47"
    },
    {
      "cell_type": "code",
      "execution_count": 16,
      "metadata": {},
      "outputs": [],
      "source": [
        "krd_geom = krd_feature['geometry']"
      ],
      "id": "f4f0f44f"
    },
    {
      "cell_type": "code",
      "execution_count": 17,
      "metadata": {},
      "outputs": [
        {
          "output_type": "display_data",
          "metadata": {},
          "data": {
            "text/plain": [
              "dict"
            ]
          }
        }
      ],
      "source": [
        "type(krd_geom)"
      ],
      "id": "84194e9b"
    },
    {
      "cell_type": "code",
      "execution_count": 18,
      "metadata": {},
      "outputs": [
        {
          "output_type": "display_data",
          "metadata": {},
          "data": {
            "text/plain": [
              "dict_keys(['type', 'coordinates'])"
            ]
          }
        }
      ],
      "source": [
        "krd_geom.keys()"
      ],
      "id": "4f4954e8"
    },
    {
      "cell_type": "code",
      "execution_count": 19,
      "metadata": {},
      "outputs": [
        {
          "output_type": "display_data",
          "metadata": {},
          "data": {
            "text/plain": [
              "'Polygon'"
            ]
          }
        }
      ],
      "source": [
        "krd_geom['type']"
      ],
      "id": "d402b423"
    },
    {
      "cell_type": "code",
      "execution_count": 21,
      "metadata": {},
      "outputs": [],
      "source": [
        "krd_coords = krd_geom['coordinates']"
      ],
      "id": "9fe08305"
    }
  ],
  "nbformat": 4,
  "nbformat_minor": 5,
  "metadata": {
    "kernelspec": {
      "name": "python3",
      "display_name": "Python 3",
      "language": "python"
    },
    "language_info": {
      "name": "python"
    }
  }
}